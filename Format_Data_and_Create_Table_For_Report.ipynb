{
  "cells": [
    {
      "cell_type": "markdown",
      "metadata": {
        "id": "s0XuiiJ9CBCH"
      },
      "source": [
        "#Import thư viện"
      ]
    },
    {
      "cell_type": "code",
      "execution_count": 19,
      "metadata": {
        "id": "IJDw_4Ik9UeO"
      },
      "outputs": [],
      "source": [
        "import pandas as pd\n",
        "import numpy as np"
      ]
    },
    {
      "cell_type": "markdown",
      "metadata": {
        "id": "bI9-e9pC7J7E"
      },
      "source": [
        "#File tiktok\n"
      ]
    },
    {
      "cell_type": "code",
      "execution_count": 20,
      "metadata": {
        "id": "-Q3L4AJn9fzw"
      },
      "outputs": [],
      "source": [
        "df_new = pd.read_excel(\"C:\\\\Users\\\\hoang\\\\Deploy web\\\\Data\\Tất cả đơn hàng-2025-04-08-08_55.xlsx\", \n",
        "                       dtype={'Order ID': str, 'SKU ID': str, 'Tracking ID': str, 'Package ID': str})\n"
      ]
    },
    {
      "cell_type": "markdown",
      "metadata": {
        "id": "ScEEB7nMAloL"
      },
      "source": [
        "#File shopee\n"
      ]
    },
    {
      "cell_type": "code",
      "execution_count": 21,
      "metadata": {
        "id": "68cGbXRJAn22"
      },
      "outputs": [],
      "source": [
        "df_shopee = pd.read_excel(\n",
        "    \"C:\\\\Users\\\\hoang\\\\Deploy web\\\\Data\\\\Order.all.20250323_20250406_fulll.xlsx\",\n",
        "    dtype={'Mã đơn hàng': str, 'Mã Kiện Hàng': str, 'Mã vận đơn': str}\n",
        ")\n"
      ]
    },
    {
      "cell_type": "markdown",
      "metadata": {
        "id": "-m4rfa7wfKRD"
      },
      "source": [
        "#Điền ngày\n",
        "\n"
      ]
    },
    {
      "cell_type": "code",
      "execution_count": 22,
      "metadata": {
        "id": "kbLIN9WtfHtL"
      },
      "outputs": [],
      "source": [
        "ngay_bat_dau = pd.to_datetime(\"2025-03-31\")\n",
        "ngay_ket_thuc = pd.to_datetime(\"2025-04-06\")"
      ]
    },
    {
      "cell_type": "code",
      "execution_count": 23,
      "metadata": {},
      "outputs": [
        {
          "data": {
            "text/plain": [
              "Index(['Order ID', 'Order Status', 'Order Substatus',\n",
              "       'Cancelation/Return Type', 'Normal or Pre-order', 'SKU ID',\n",
              "       'Seller SKU', 'Product Name', 'Variation', 'Quantity',\n",
              "       'Sku Quantity of return', 'SKU Unit Original Price',\n",
              "       'SKU Subtotal Before Discount', 'SKU Platform Discount',\n",
              "       'SKU Seller Discount', 'SKU Subtotal After Discount',\n",
              "       'Shipping Fee After Discount', 'Original Shipping Fee',\n",
              "       'Shipping Fee Seller Discount', 'Shipping Fee Platform Discount',\n",
              "       'Payment platform discount', 'Taxes', 'Order Amount',\n",
              "       'Order Refund Amount', 'Created Time', 'Paid Time', 'RTS Time',\n",
              "       'Shipped Time', 'Delivered Time', 'Cancelled Time', 'Cancel By',\n",
              "       'Cancel Reason', 'Fulfillment Type', 'Warehouse Name', 'Tracking ID',\n",
              "       'Delivery Option', 'Shipping Provider Name', 'Buyer Message',\n",
              "       'Buyer Username', 'Recipient', 'Phone #', 'Country', 'Province',\n",
              "       'District', 'Commune', 'Detail Address',\n",
              "       'Additional address information', 'Payment Method', 'Weight(kg)',\n",
              "       'Product Category', 'Package ID', 'Seller Note', 'Checked Status',\n",
              "       'Checked Marked by'],\n",
              "      dtype='object')"
            ]
          },
          "execution_count": 23,
          "metadata": {},
          "output_type": "execute_result"
        }
      ],
      "source": [
        "df_new.columns"
      ]
    },
    {
      "cell_type": "markdown",
      "metadata": {
        "id": "eV89JQ_5AgqI"
      },
      "source": [
        "#Processing data tiktok"
      ]
    },
    {
      "cell_type": "code",
      "execution_count": 24,
      "metadata": {
        "id": "Ln0ypOM7_kDe"
      },
      "outputs": [],
      "source": [
        "df_new['Province'] = df_new['Province'].str.replace(r'^(Tỉnh |Tinh )', '', regex=True)\n",
        "df_new['Province'] = df_new['Province'].str.replace(r'^(Thanh pho |Thành phố |Thành Phố )', '', regex=True)\n",
        "df_new['Country']=df_new['Country'].replace({'Viêt Nam', 'Vietnam', 'The Socialist Republic of Viet Nam','Socialist Republic of Vietnam'}, 'Việt Nam')\n",
        "df_new['Province']=df_new['Province'].replace({'Ba Ria– Vung Tau', 'Bà Rịa-Vũng Tàu', 'Ba Ria - Vung Tau'}, 'Bà Rịa - Vũng Tàu')\n",
        "df_new['Province']=df_new['Province'].replace('Bac Giang', 'Bắc Giang')\n",
        "df_new['Province']=df_new['Province'].replace('Bac Lieu', 'Bạc Liêu')\n",
        "df_new['Province']=df_new['Province'].replace('Bac Ninh', 'Bắc Ninh')\n",
        "df_new['Province']=df_new['Province'].replace('Ben Tre', 'Bến Tre')\n",
        "df_new['Province']=df_new['Province'].replace('Binh Dinh', 'Bình Định')\n",
        "df_new['Province']=df_new['Province'].replace({'Binh Duong', 'Binh Duong Province'}, 'Bình Dương')\n",
        "df_new['Province']=df_new['Province'].replace('Binh Phuoc', 'Bình Phước')\n",
        "df_new['Province']=df_new['Province'].replace('Binh Thuan', 'Bình Thuận')\n",
        "df_new['Province']=df_new['Province'].replace({'Ca Mau', 'Ca Mau Province'}, 'Cà Mau')\n",
        "df_new['Province']=df_new['Province'].replace({'Can Tho', 'Phố Cần Thơ'}, 'Cần Thơ')\n",
        "df_new['Province']=df_new['Province'].replace({'Da Nang', 'Da Nang City', 'Phố Đà Nẵng'}, 'Đà Nẵng')\n",
        "df_new['Province']=df_new['Province'].replace({'Dak Lak','Đắc Lắk'}, 'Đắk Lắk')\n",
        "df_new['Province']=df_new['Province'].replace({'Ðắk Nông', 'Đắk Nông', 'Dak Nong'}, 'Đắk Nông')\n",
        "df_new['Province']=df_new['Province'].replace({'Dong Nai', 'Dong Nai Province'}, 'Đồng Nai')\n",
        "df_new['Province']=df_new['Province'].replace({'Dong Thap', 'Dong Thap Province'}, 'Đồng Tháp')\n",
        "df_new['Province']=df_new['Province'].replace('Ha Nam', 'Hà Nam')\n",
        "df_new['Province']=df_new['Province'].replace({'Ha Noi', 'Ha Noi City', 'Phố Hà Nội'}, 'Hà Nội')\n",
        "df_new['Province']=df_new['Province'].replace({'Hai Phong', 'Phố Hải Phòng'}, 'Hải Phòng')\n",
        "df_new['Province']=df_new['Province'].replace('Ha Tinh', 'Hà Tĩnh')\n",
        "df_new['Province']=df_new['Province'].replace('Hau Giang', 'Hậu Giang')\n",
        "df_new['Province']=df_new['Province'].replace({'Hô-Chi-Minh-Ville', 'Ho Chi Minh', 'Ho Chi Minh City', 'Kota Ho Chi Minh'}, 'Hồ Chí Minh')\n",
        "df_new['Province']=df_new['Province'].replace({'Hoa Binh', 'Hoà Bình'}, 'Hòa Bình')\n",
        "df_new['Province']=df_new['Province'].replace('Hung Yen', 'Hưng Yên')\n",
        "df_new['Province']=df_new['Province'].replace({'Khanh Hoa', 'Khanh Hoa Province','Khánh Hoà'}, 'Khánh Hòa')\n",
        "df_new['Province']=df_new['Province'].replace({'Kien Giang', 'Kiến Giang'}, 'Kiên Giang')\n",
        "df_new['Province']=df_new['Province'].replace('Long An Province', 'Long An')\n",
        "df_new['Province']=df_new['Province'].replace('Nam Dinh', 'Nam Định')\n",
        "df_new['Province']=df_new['Province'].replace('Nghe An', 'Nghệ An')\n",
        "df_new['Province']=df_new['Province'].replace('Ninh Binh', 'Ninh Bình')\n",
        "df_new['Province']=df_new['Province'].replace('Ninh Thuan', 'Ninh Thuận')\n",
        "df_new['Province']=df_new['Province'].replace('Quang Binh', 'Quảng Bình')\n",
        "df_new['Province']=df_new['Province'].replace('Quang Tri', 'Quảng Trị')\n",
        "df_new['Province']=df_new['Province'].replace('Quang Nam', 'Quảng Nam')\n",
        "df_new['Province']=df_new['Province'].replace('Quang Ngai', 'Quảng Ngãi')\n",
        "df_new['Province']=df_new['Province'].replace({'Quang Ninh', 'Quang Ninh Province'}, 'Quảng Ninh')\n",
        "df_new['Province']=df_new['Province'].replace('Soc Trang', 'Sóc Trăng')\n",
        "df_new['Province']=df_new['Province'].replace('Tay Ninh', 'Tay Ninh')\n",
        "df_new['Province']=df_new['Province'].replace('Thai Binh', 'Thái Bình')\n",
        "df_new['Province']=df_new['Province'].replace({'Thanh Hoa', 'Thanh Hoá'}, 'Thanh Hóa')\n",
        "df_new['Province']=df_new['Province'].replace('Hai Duong', 'Hải Dương')\n",
        "df_new['Province']=df_new['Province'].replace({'Thừa Thiên Huế', 'Thua Thien Hue'}, 'Thừa Thiên-Huế')\n",
        "df_new['Province']=df_new['Province'].replace('Vinh Long', 'Vĩnh Long')\n",
        "df_new['Province']=df_new['Province'].replace('Tra Vinh', 'Trà Vinh')\n",
        "df_new['Province']=df_new['Province'].replace('Vinh Phuc', 'Vĩnh Phúc')\n",
        "df_new['Province']=df_new['Province'].replace('Cao Bang', 'Cao Bằng')\n",
        "df_new['Province']=df_new['Province'].replace('Lai Chau', 'Lai Châu')\n",
        "df_new['Province']=df_new['Province'].replace('Ha Giang', 'Hà Giang')\n",
        "df_new['Province']=df_new['Province'].replace('Lai Chau', 'Lai Châu')\n",
        "df_new['Province']=df_new['Province'].replace('Lam Dong', 'Lâm Đồng')\n",
        "df_new['Province']=df_new['Province'].replace('Lao Cai', 'Lào Cai')\n",
        "df_new['Province']=df_new['Province'].replace('Phu Tho', 'Phu Tho')\n",
        "df_new['Province']=df_new['Province'].replace('Phu Yen', 'Phú Yên')\n",
        "df_new['Province']=df_new['Province'].replace('Thai Nguyen', 'Thái Nguyên')\n",
        "df_new['Province']=df_new['Province'].replace('Son La', 'Sơn La')\n",
        "df_new['Province']=df_new['Province'].replace('Tay Ninh', 'Tây Ninh')\n",
        "df_new['Province']=df_new['Province'].replace('Tuyen Quang', 'Tuyên Quang')\n",
        "df_new['Province']=df_new['Province'].replace('Yen Bai', 'Yên Bái')\n",
        "df_new['Province']=df_new['Province'].replace('Dien Bien', 'Điện Biên')\n",
        "df_new['Province']=df_new['Province'].replace('Tien Giang', 'Tiền Giang')\n",
        "df_new['SKU Category'] = df_new['Seller SKU']\n",
        "df_new['SKU Category'] = df_new['SKU Category'].str.replace(r'^(COMBO-SC-ANHDUC|COMBO-SC-NGOCTRINH)', 'COMBO-SC', regex=True)"
      ]
    },
    {
      "cell_type": "code",
      "execution_count": 25,
      "metadata": {
        "id": "z9-fXQlx_sRS"
      },
      "outputs": [],
      "source": [
        "date_columns = [\n",
        "    'Created Time', 'Paid Time', 'RTS Time',\n",
        "    'Shipped Time', 'Delivered Time', 'Cancelled Time'\n",
        "]\n",
        "\n",
        "# Ép kiểu về datetime\n",
        "df_new[date_columns] = df_new[date_columns].apply(\n",
        "    lambda col: pd.to_datetime(col, errors='coerce', format='%d/%m/%Y %H:%M:%S')\n",
        ")\n",
        "\n",
        "# Loại bỏ giờ, giữ lại phần ngày (vẫn là kiểu datetime)\n",
        "for col in date_columns:\n",
        "    df_new[col] = df_new[col].dt.normalize()\n"
      ]
    },
    {
      "cell_type": "code",
      "execution_count": 26,
      "metadata": {
        "colab": {
          "base_uri": "https://localhost:8080/"
        },
        "id": "yxn2q7nkCZ6Z",
        "outputId": "5d620769-6ed6-4c54-ae83-abe1adf17b96"
      },
      "outputs": [
        {
          "data": {
            "text/plain": [
              "15804"
            ]
          },
          "execution_count": 26,
          "metadata": {},
          "output_type": "execute_result"
        }
      ],
      "source": [
        "tong_don = df_new[\n",
        "    (df_new['Delivered Time'] >= ngay_bat_dau) &\n",
        "    (df_new['Delivered Time'] <= ngay_ket_thuc)\n",
        "]\n",
        "\n",
        "tong_don_unique = tong_don['Order ID'].drop_duplicates()\n",
        "so_luong_tong_don = len(tong_don_unique)\n",
        "so_luong_tong_don"
      ]
    },
    {
      "cell_type": "code",
      "execution_count": 27,
      "metadata": {
        "colab": {
          "base_uri": "https://localhost:8080/"
        },
        "id": "dfFrG5xWHzUq",
        "outputId": "a7d334c8-2500-4022-95b2-7f5d9151106d"
      },
      "outputs": [
        {
          "data": {
            "text/plain": [
              "6402"
            ]
          },
          "execution_count": 27,
          "metadata": {},
          "output_type": "execute_result"
        }
      ],
      "source": [
        "don_hoan_thanh_tiktok = df_new[\n",
        "    (df_new['Order Substatus'] == 'Completed') &\n",
        "    (df_new['Delivered Time'] >= ngay_bat_dau) &\n",
        "    (df_new['Delivered Time'] <= ngay_ket_thuc)\n",
        "]\n",
        "\n",
        "don_hoan_thanh_tiktok_unique = don_hoan_thanh_tiktok['Order ID'].drop_duplicates()\n",
        "so_don_hoan_thanh_tiktok = len(don_hoan_thanh_tiktok_unique)\n",
        "so_don_hoan_thanh_tiktok"
      ]
    },
    {
      "cell_type": "code",
      "execution_count": 28,
      "metadata": {
        "colab": {
          "base_uri": "https://localhost:8080/"
        },
        "id": "rW3lruuxJ4pQ",
        "outputId": "0585f96d-f723-467b-f555-39a2370e724e"
      },
      "outputs": [
        {
          "data": {
            "text/plain": [
              "1700"
            ]
          },
          "execution_count": 28,
          "metadata": {},
          "output_type": "execute_result"
        }
      ],
      "source": [
        "don_da_huy = df_new[\n",
        "    (df_new['Order Substatus'] == 'Canceled')  &\n",
        "    (df_new['Cancelled Time'] >= ngay_bat_dau) &\n",
        "    (df_new['Cancelled Time'] <= ngay_ket_thuc)\n",
        "]\n",
        "\n",
        "don_da_huy_unique = don_da_huy['Order ID'].drop_duplicates()\n",
        "so_don_da_huy = len(don_da_huy_unique)\n",
        "so_don_da_huy"
      ]
    },
    {
      "cell_type": "code",
      "execution_count": 29,
      "metadata": {
        "colab": {
          "base_uri": "https://localhost:8080/"
        },
        "id": "z9iIBoPJUomq",
        "outputId": "05292042-d04e-46ae-e0d6-fbefa2d2660a"
      },
      "outputs": [
        {
          "data": {
            "text/plain": [
              "11"
            ]
          },
          "execution_count": 29,
          "metadata": {},
          "output_type": "execute_result"
        }
      ],
      "source": [
        "don_hoan_tra_tiktok = df_new[\n",
        "    (df_new['Cancelation/Return Type'] == 'Return/Refund')  &\n",
        "    (df_new['Delivered Time'] >= ngay_bat_dau) &\n",
        "    (df_new['Delivered Time'] <= ngay_ket_thuc)\n",
        "]\n",
        "don_hoan_tra_tiktok_unique = don_hoan_tra_tiktok['Order ID'].drop_duplicates()\n",
        "so_don_hoan_tra_tiktok = len(don_hoan_tra_tiktok_unique)\n",
        "so_don_hoan_tra_tiktok"
      ]
    },
    {
      "cell_type": "code",
      "execution_count": 30,
      "metadata": {
        "colab": {
          "base_uri": "https://localhost:8080/"
        },
        "id": "WlBKJg1CJ5ft",
        "outputId": "1e58687e-3def-4e32-fa04-4d7e53f7c47a"
      },
      "outputs": [
        {
          "data": {
            "text/plain": [
              "9"
            ]
          },
          "execution_count": 30,
          "metadata": {},
          "output_type": "execute_result"
        }
      ],
      "source": [
        "don_hoan_tra_thuc_su_tiktok = df_new[\n",
        "    (df_new['Cancelation/Return Type'] == 'Return/Refund')  &\n",
        "    (df_new['Delivered Time'] >= ngay_bat_dau) &\n",
        "    (df_new['Delivered Time'] <= ngay_ket_thuc) &\n",
        "    (df_new['Sku Quantity of return'] != 0)\n",
        "]\n",
        "don_hoan_tra_thuc_su_tiktok_unique = don_hoan_tra_thuc_su_tiktok['Order ID'].drop_duplicates()\n",
        "so_don_hoan_tra_thuc_su_tiktok = len(don_hoan_tra_thuc_su_tiktok_unique)\n",
        "so_don_hoan_tra_thuc_su_tiktok"
      ]
    },
    {
      "cell_type": "code",
      "execution_count": 31,
      "metadata": {
        "colab": {
          "base_uri": "https://localhost:8080/"
        },
        "id": "nlMIh5oPmhe6",
        "outputId": "4deef1ac-ad36-4ae7-a5cf-f9361ba0957e"
      },
      "outputs": [
        {
          "data": {
            "text/plain": [
              "9402"
            ]
          },
          "execution_count": 31,
          "metadata": {},
          "output_type": "execute_result"
        }
      ],
      "source": [
        "don_da_giao_tiktok = df_new[\n",
        "    (df_new['Order Substatus'] == 'Delivered')  &\n",
        "    (df_new['Delivered Time'] >= ngay_bat_dau) &\n",
        "    (df_new['Delivered Time'] <= ngay_ket_thuc)\n",
        "]\n",
        "don_da_giao_tiktok_unique = don_da_giao_tiktok['Order ID'].drop_duplicates()\n",
        "so_don_da_giao_tiktok = len(don_da_giao_tiktok_unique)\n",
        "so_don_da_giao_tiktok"
      ]
    },
    {
      "cell_type": "code",
      "execution_count": 32,
      "metadata": {
        "id": "IYdnnqn4xSqr"
      },
      "outputs": [],
      "source": [
        "SCx1_tiktok = df_new[\n",
        "    (df_new['SKU Category'] == 'SC-450g')&\n",
        "    (df_new['Delivered Time'] >= ngay_bat_dau) &\n",
        "    (df_new['Delivered Time'] <= ngay_ket_thuc) &\n",
        "    (df_new['Order Substatus'] == 'Completed')\n",
        "\n",
        "]\n",
        "\n",
        "SCx2_tiktok = df_new[\n",
        "    (df_new['SKU Category'] == 'SC-x2-450g') &\n",
        "    (df_new['Delivered Time'] >= ngay_bat_dau) &\n",
        "    (df_new['Delivered Time'] <= ngay_ket_thuc)\n",
        "]\n",
        "\n",
        "SC_Combo_tiktok = df_new[\n",
        "    (df_new['SKU Category'] == 'COMBO-SC') &\n",
        "    (df_new['Delivered Time'] >= ngay_bat_dau) &\n",
        "    (df_new['Delivered Time'] <= ngay_ket_thuc)\n",
        "]"
      ]
    },
    {
      "cell_type": "code",
      "execution_count": 33,
      "metadata": {
        "colab": {
          "base_uri": "https://localhost:8080/"
        },
        "id": "2rNtD3kl3RGT",
        "outputId": "fbf7cdf6-0c1a-4a11-9f4d-6f80fee32f43"
      },
      "outputs": [
        {
          "data": {
            "text/plain": [
              "np.int64(13947)"
            ]
          },
          "execution_count": 33,
          "metadata": {},
          "output_type": "execute_result"
        }
      ],
      "source": [
        "so_luong_SCx1_tiktok = SCx1_tiktok['Quantity'].sum()\n",
        "so_luong_SCx2_tiktok = SCx2_tiktok['Quantity'].sum()\n",
        "so_luong_SC_Combo_tiktok = SC_Combo_tiktok['Quantity'].sum()\n",
        "tong_san_pham_tiktok = so_luong_SCx1_tiktok + so_luong_SCx2_tiktok + so_luong_SC_Combo_tiktok * 2\n",
        "tong_san_pham_tiktok"
      ]
    },
    {
      "cell_type": "code",
      "execution_count": 34,
      "metadata": {
        "colab": {
          "base_uri": "https://localhost:8080/"
        },
        "id": "P1Kv6h0pLxm7",
        "outputId": "81c0cb93-243a-4414-dc52-06c88061ede0"
      },
      "outputs": [
        {
          "data": {
            "text/plain": [
              "np.int64(2946)"
            ]
          },
          "execution_count": 34,
          "metadata": {},
          "output_type": "execute_result"
        }
      ],
      "source": [
        "so_luong_SCx1_tiktok"
      ]
    },
    {
      "cell_type": "code",
      "execution_count": 35,
      "metadata": {
        "colab": {
          "base_uri": "https://localhost:8080/"
        },
        "id": "azL_UYMvLy-L",
        "outputId": "f06b6f59-f3b9-4205-93c4-56d9439c1f94"
      },
      "outputs": [
        {
          "data": {
            "text/plain": [
              "np.int64(6359)"
            ]
          },
          "execution_count": 35,
          "metadata": {},
          "output_type": "execute_result"
        }
      ],
      "source": [
        "so_luong_SCx2_tiktok"
      ]
    },
    {
      "cell_type": "code",
      "execution_count": 36,
      "metadata": {
        "colab": {
          "base_uri": "https://localhost:8080/"
        },
        "id": "tSuhqaUwLz77",
        "outputId": "5df96b0b-beb4-4d39-9262-21749052056e"
      },
      "outputs": [
        {
          "data": {
            "text/plain": [
              "np.int64(2321)"
            ]
          },
          "execution_count": 36,
          "metadata": {},
          "output_type": "execute_result"
        }
      ],
      "source": [
        "so_luong_SC_Combo_tiktok"
      ]
    },
    {
      "cell_type": "code",
      "execution_count": 37,
      "metadata": {
        "id": "oI6gjKWg-_pB"
      },
      "outputs": [],
      "source": [
        "SCx1_tiktok_hoan_thanh = df_new[\n",
        "    (df_new['SKU Category'] == 'SC-450g')&\n",
        "    (df_new['Delivered Time'] >= ngay_bat_dau) &\n",
        "    (df_new['Delivered Time'] <= ngay_ket_thuc) &\n",
        "    (df_new['Order Substatus'] == 'Completed')\n",
        "]\n",
        "\n",
        "SCx2_tiktok_hoan_thanh = df_new[\n",
        "    (df_new['SKU Category'] == 'SC-x2-450g') &\n",
        "    (df_new['Delivered Time'] >= ngay_bat_dau) &\n",
        "    (df_new['Delivered Time'] <= ngay_ket_thuc) &\n",
        "    (df_new['Order Substatus'] == 'Completed')\n",
        "]\n",
        "\n",
        "SC_Combo_tiktok_hoan_thanh = df_new[\n",
        "    (df_new['SKU Category'] == 'COMBO-SC') &\n",
        "    (df_new['Delivered Time'] >= ngay_bat_dau) &\n",
        "    (df_new['Delivered Time'] <= ngay_ket_thuc) &\n",
        "    (df_new['Order Substatus'] == 'Completed')\n",
        "]"
      ]
    },
    {
      "cell_type": "code",
      "execution_count": 38,
      "metadata": {
        "id": "coIQxTB-KkIS"
      },
      "outputs": [],
      "source": [
        "so_luong_SCx1_tiktok_hoan_thanh = SCx1_tiktok_hoan_thanh['Quantity'].sum()\n",
        "so_luong_SCx2_tiktok_hoan_thanh = SCx2_tiktok_hoan_thanh['Quantity'].sum()\n",
        "so_luong_SC_Combo_tiktok_hoan_thanh = SC_Combo_tiktok_hoan_thanh['Quantity'].sum()"
      ]
    },
    {
      "cell_type": "code",
      "execution_count": 39,
      "metadata": {
        "colab": {
          "base_uri": "https://localhost:8080/"
        },
        "id": "AEL3ML4CKskj",
        "outputId": "b2752948-1230-4d89-d338-f4fb99a21cda"
      },
      "outputs": [
        {
          "data": {
            "text/plain": [
              "np.int64(8404)"
            ]
          },
          "execution_count": 39,
          "metadata": {},
          "output_type": "execute_result"
        }
      ],
      "source": [
        "tong_san_pham_tiktok_hoan_thanh = so_luong_SCx1_tiktok_hoan_thanh + so_luong_SCx2_tiktok_hoan_thanh + so_luong_SC_Combo_tiktok_hoan_thanh * 2\n",
        "tong_san_pham_tiktok_hoan_thanh"
      ]
    },
    {
      "cell_type": "code",
      "execution_count": 40,
      "metadata": {
        "id": "ER-H3di0KwTx"
      },
      "outputs": [],
      "source": [
        "SCx1_tiktok_da_giao = df_new[\n",
        "    (df_new['SKU Category'] == 'SC-450g')&\n",
        "    (df_new['Delivered Time'] >= ngay_bat_dau) &\n",
        "    (df_new['Delivered Time'] <= ngay_ket_thuc) &\n",
        "    (df_new['Order Substatus'] == 'Delivered')\n",
        "]\n",
        "\n",
        "SCx2_tiktok_da_giao = df_new[\n",
        "    (df_new['SKU Category'] == 'SC-x2-450g') &\n",
        "    (df_new['Delivered Time'] >= ngay_bat_dau) &\n",
        "    (df_new['Delivered Time'] <= ngay_ket_thuc) &\n",
        "    (df_new['Order Substatus'] == 'Delivered')\n",
        "]\n",
        "\n",
        "SC_Combo_tiktok_da_giao = df_new[\n",
        "    (df_new['SKU Category'] == 'COMBO-SC') &\n",
        "    (df_new['Delivered Time'] >= ngay_bat_dau) &\n",
        "    (df_new['Delivered Time'] <= ngay_ket_thuc) &\n",
        "    (df_new['Order Substatus'] == 'Delivered')\n",
        "]"
      ]
    },
    {
      "cell_type": "code",
      "execution_count": 41,
      "metadata": {
        "id": "QMOWJSkpK5mY"
      },
      "outputs": [],
      "source": [
        "so_luong_SCx1_tiktok_da_giao = SCx1_tiktok_da_giao['Quantity'].sum()\n",
        "so_luong_SCx2_tiktok_da_giao = SCx2_tiktok_da_giao['Quantity'].sum()\n",
        "so_luong_SC_Combo_tiktok_da_giao = SC_Combo_tiktok_da_giao['Quantity'].sum()"
      ]
    },
    {
      "cell_type": "code",
      "execution_count": 42,
      "metadata": {
        "colab": {
          "base_uri": "https://localhost:8080/"
        },
        "id": "7XGrxxN_K_wU",
        "outputId": "442a0ae2-9fc0-4112-d943-499fbce5ab70"
      },
      "outputs": [
        {
          "data": {
            "text/plain": [
              "np.int64(10987)"
            ]
          },
          "execution_count": 42,
          "metadata": {},
          "output_type": "execute_result"
        }
      ],
      "source": [
        "tong_san_pham_tiktok_da_giao = so_luong_SCx1_tiktok_da_giao + so_luong_SCx2_tiktok_da_giao + so_luong_SC_Combo_tiktok_da_giao * 2\n",
        "tong_san_pham_tiktok_da_giao"
      ]
    },
    {
      "cell_type": "code",
      "execution_count": 43,
      "metadata": {
        "id": "s3uCSuHzZpzl"
      },
      "outputs": [],
      "source": [
        "SCx1_tiktok_hoan_tra = df_new[\n",
        "    (df_new['SKU Category'] == 'SC-450g')&\n",
        "    (df_new['Delivered Time'] >= ngay_bat_dau) &\n",
        "    (df_new['Delivered Time'] <= ngay_ket_thuc) &\n",
        "    (df_new['Cancelation/Return Type'] == 'Return/Refund')  &\n",
        "    (df_new['Sku Quantity of return'] != 0)\n",
        "]\n",
        "\n",
        "SCx2_tiktok_hoan_tra = df_new[\n",
        "    (df_new['SKU Category'] == 'SC-x2-450g') &\n",
        "    (df_new['Delivered Time'] >= ngay_bat_dau) &\n",
        "    (df_new['Delivered Time'] <= ngay_ket_thuc) &\n",
        "    (df_new['Cancelation/Return Type'] == 'Return/Refund')  &\n",
        "    (df_new['Sku Quantity of return'] != 0)\n",
        "]\n",
        "\n",
        "SC_Combo_tiktok_hoan_tra = df_new[\n",
        "    (df_new['SKU Category'] == 'COMBO-SC') &\n",
        "    (df_new['Delivered Time'] >= ngay_bat_dau) &\n",
        "    (df_new['Delivered Time'] <= ngay_ket_thuc) &\n",
        "    (df_new['Cancelation/Return Type'] == 'Return/Refund')  &\n",
        "    (df_new['Sku Quantity of return'] != 0)\n",
        "]"
      ]
    },
    {
      "cell_type": "code",
      "execution_count": 44,
      "metadata": {
        "colab": {
          "base_uri": "https://localhost:8080/",
          "height": 421
        },
        "id": "Z8rHVUEjdlle",
        "outputId": "4dc175a0-11c4-4385-bc2d-eac886038cbf"
      },
      "outputs": [
        {
          "data": {
            "text/html": [
              "<div>\n",
              "<style scoped>\n",
              "    .dataframe tbody tr th:only-of-type {\n",
              "        vertical-align: middle;\n",
              "    }\n",
              "\n",
              "    .dataframe tbody tr th {\n",
              "        vertical-align: top;\n",
              "    }\n",
              "\n",
              "    .dataframe thead th {\n",
              "        text-align: right;\n",
              "    }\n",
              "</style>\n",
              "<table border=\"1\" class=\"dataframe\">\n",
              "  <thead>\n",
              "    <tr style=\"text-align: right;\">\n",
              "      <th></th>\n",
              "      <th>Order ID</th>\n",
              "      <th>Order Status</th>\n",
              "      <th>Order Substatus</th>\n",
              "      <th>Cancelation/Return Type</th>\n",
              "      <th>Normal or Pre-order</th>\n",
              "      <th>SKU ID</th>\n",
              "      <th>Seller SKU</th>\n",
              "      <th>Product Name</th>\n",
              "      <th>Variation</th>\n",
              "      <th>Quantity</th>\n",
              "      <th>...</th>\n",
              "      <th>Detail Address</th>\n",
              "      <th>Additional address information</th>\n",
              "      <th>Payment Method</th>\n",
              "      <th>Weight(kg)</th>\n",
              "      <th>Product Category</th>\n",
              "      <th>Package ID</th>\n",
              "      <th>Seller Note</th>\n",
              "      <th>Checked Status</th>\n",
              "      <th>Checked Marked by</th>\n",
              "      <th>SKU Category</th>\n",
              "    </tr>\n",
              "  </thead>\n",
              "  <tbody>\n",
              "    <tr>\n",
              "      <th>14249</th>\n",
              "      <td>580139520003377899</td>\n",
              "      <td>Completed</td>\n",
              "      <td>Completed</td>\n",
              "      <td>Return/Refund</td>\n",
              "      <td>Normal</td>\n",
              "      <td>1732098589502179407</td>\n",
              "      <td>SC-450g</td>\n",
              "      <td>Sốt Chấm CayTeDai x1 CAY VỪA - Sốt Muối Chấm L...</td>\n",
              "      <td>Sốt Chấm CayTeDai X1 CAY VỪA</td>\n",
              "      <td>1</td>\n",
              "      <td>...</td>\n",
              "      <td>********************</td>\n",
              "      <td>***************</td>\n",
              "      <td>Thanh toán khi nhận hàng</td>\n",
              "      <td>0.49</td>\n",
              "      <td>Cooking Sauces</td>\n",
              "      <td>1161474248191740651</td>\n",
              "      <td>NaN</td>\n",
              "      <td>Unchecked</td>\n",
              "      <td>NaN</td>\n",
              "      <td>SC-450g</td>\n",
              "    </tr>\n",
              "    <tr>\n",
              "      <th>14329</th>\n",
              "      <td>580139338081602014</td>\n",
              "      <td>Completed</td>\n",
              "      <td>Completed</td>\n",
              "      <td>Return/Refund</td>\n",
              "      <td>Normal</td>\n",
              "      <td>1732098613750958159</td>\n",
              "      <td>SC-450g</td>\n",
              "      <td>Sốt Chấm CayTeDai x2 SIÊU CAY - Sốt Muối Chấm ...</td>\n",
              "      <td>Sốt Chấm CayTeDai X1 CAY VỪA</td>\n",
              "      <td>1</td>\n",
              "      <td>...</td>\n",
              "      <td>**************************************</td>\n",
              "      <td>NaN</td>\n",
              "      <td>Thanh toán khi nhận hàng</td>\n",
              "      <td>0.49</td>\n",
              "      <td>Cooking Sauces</td>\n",
              "      <td>1161473539546647006</td>\n",
              "      <td>NaN</td>\n",
              "      <td>Unchecked</td>\n",
              "      <td>NaN</td>\n",
              "      <td>SC-450g</td>\n",
              "    </tr>\n",
              "    <tr>\n",
              "      <th>15043</th>\n",
              "      <td>580138214226233361</td>\n",
              "      <td>Completed</td>\n",
              "      <td>Completed</td>\n",
              "      <td>Return/Refund</td>\n",
              "      <td>Normal</td>\n",
              "      <td>1732098613750958159</td>\n",
              "      <td>SC-450g</td>\n",
              "      <td>Sốt Chấm CayTeDai x2 SIÊU CAY - Sốt Muối Chấm ...</td>\n",
              "      <td>Sốt Chấm CayTeDai X1 CAY VỪA</td>\n",
              "      <td>1</td>\n",
              "      <td>...</td>\n",
              "      <td>*************************</td>\n",
              "      <td>NaN</td>\n",
              "      <td>Thanh toán khi nhận hàng</td>\n",
              "      <td>0.49</td>\n",
              "      <td>Cooking Sauces</td>\n",
              "      <td>1161468100436396049</td>\n",
              "      <td>NaN</td>\n",
              "      <td>Unchecked</td>\n",
              "      <td>NaN</td>\n",
              "      <td>SC-450g</td>\n",
              "    </tr>\n",
              "    <tr>\n",
              "      <th>17879</th>\n",
              "      <td>580134697057618176</td>\n",
              "      <td>Completed</td>\n",
              "      <td>Completed</td>\n",
              "      <td>Return/Refund</td>\n",
              "      <td>Normal</td>\n",
              "      <td>1732098589502179407</td>\n",
              "      <td>SC-450g</td>\n",
              "      <td>Sốt Chấm CayTeDai x1 CAY VỪA - Sốt Muối Chấm L...</td>\n",
              "      <td>Sốt Chấm CayTeDai X1 CAY VỪA</td>\n",
              "      <td>1</td>\n",
              "      <td>...</td>\n",
              "      <td>*************************</td>\n",
              "      <td>NaN</td>\n",
              "      <td>Thanh toán khi nhận hàng</td>\n",
              "      <td>0.49</td>\n",
              "      <td>Cooking Sauces</td>\n",
              "      <td>1161444757976025344</td>\n",
              "      <td>NaN</td>\n",
              "      <td>Unchecked</td>\n",
              "      <td>NaN</td>\n",
              "      <td>SC-450g</td>\n",
              "    </tr>\n",
              "    <tr>\n",
              "      <th>20585</th>\n",
              "      <td>580133952337578965</td>\n",
              "      <td>Completed</td>\n",
              "      <td>Completed</td>\n",
              "      <td>Return/Refund</td>\n",
              "      <td>Normal</td>\n",
              "      <td>1732098589502179407</td>\n",
              "      <td>SC-450g</td>\n",
              "      <td>Sốt Chấm CayTeDai x1 CAY VỪA - Sốt Muối Chấm L...</td>\n",
              "      <td>Sốt Chấm CayTeDai X1 CAY VỪA</td>\n",
              "      <td>1</td>\n",
              "      <td>...</td>\n",
              "      <td>***********</td>\n",
              "      <td>NaN</td>\n",
              "      <td>MoMo</td>\n",
              "      <td>0.49</td>\n",
              "      <td>Cooking Sauces</td>\n",
              "      <td>1161438575182646229</td>\n",
              "      <td>NaN</td>\n",
              "      <td>Unchecked</td>\n",
              "      <td>NaN</td>\n",
              "      <td>SC-450g</td>\n",
              "    </tr>\n",
              "  </tbody>\n",
              "</table>\n",
              "<p>5 rows × 55 columns</p>\n",
              "</div>"
            ],
            "text/plain": [
              "                 Order ID Order Status Order Substatus  \\\n",
              "14249  580139520003377899    Completed       Completed   \n",
              "14329  580139338081602014    Completed       Completed   \n",
              "15043  580138214226233361    Completed       Completed   \n",
              "17879  580134697057618176    Completed       Completed   \n",
              "20585  580133952337578965    Completed       Completed   \n",
              "\n",
              "      Cancelation/Return Type Normal or Pre-order               SKU ID  \\\n",
              "14249           Return/Refund              Normal  1732098589502179407   \n",
              "14329           Return/Refund              Normal  1732098613750958159   \n",
              "15043           Return/Refund              Normal  1732098613750958159   \n",
              "17879           Return/Refund              Normal  1732098589502179407   \n",
              "20585           Return/Refund              Normal  1732098589502179407   \n",
              "\n",
              "      Seller SKU                                       Product Name  \\\n",
              "14249    SC-450g  Sốt Chấm CayTeDai x1 CAY VỪA - Sốt Muối Chấm L...   \n",
              "14329    SC-450g  Sốt Chấm CayTeDai x2 SIÊU CAY - Sốt Muối Chấm ...   \n",
              "15043    SC-450g  Sốt Chấm CayTeDai x2 SIÊU CAY - Sốt Muối Chấm ...   \n",
              "17879    SC-450g  Sốt Chấm CayTeDai x1 CAY VỪA - Sốt Muối Chấm L...   \n",
              "20585    SC-450g  Sốt Chấm CayTeDai x1 CAY VỪA - Sốt Muối Chấm L...   \n",
              "\n",
              "                          Variation  Quantity  ...  \\\n",
              "14249  Sốt Chấm CayTeDai X1 CAY VỪA         1  ...   \n",
              "14329  Sốt Chấm CayTeDai X1 CAY VỪA         1  ...   \n",
              "15043  Sốt Chấm CayTeDai X1 CAY VỪA         1  ...   \n",
              "17879  Sốt Chấm CayTeDai X1 CAY VỪA         1  ...   \n",
              "20585  Sốt Chấm CayTeDai X1 CAY VỪA         1  ...   \n",
              "\n",
              "                               Detail Address  Additional address information  \\\n",
              "14249                    ********************                 ***************   \n",
              "14329  **************************************                             NaN   \n",
              "15043               *************************                             NaN   \n",
              "17879               *************************                             NaN   \n",
              "20585                             ***********                             NaN   \n",
              "\n",
              "                 Payment Method  Weight(kg)  Product Category  \\\n",
              "14249  Thanh toán khi nhận hàng        0.49    Cooking Sauces   \n",
              "14329  Thanh toán khi nhận hàng        0.49    Cooking Sauces   \n",
              "15043  Thanh toán khi nhận hàng        0.49    Cooking Sauces   \n",
              "17879  Thanh toán khi nhận hàng        0.49    Cooking Sauces   \n",
              "20585                      MoMo        0.49    Cooking Sauces   \n",
              "\n",
              "                Package ID  Seller Note  Checked Status  Checked Marked by  \\\n",
              "14249  1161474248191740651          NaN       Unchecked                NaN   \n",
              "14329  1161473539546647006          NaN       Unchecked                NaN   \n",
              "15043  1161468100436396049          NaN       Unchecked                NaN   \n",
              "17879  1161444757976025344          NaN       Unchecked                NaN   \n",
              "20585  1161438575182646229          NaN       Unchecked                NaN   \n",
              "\n",
              "       SKU Category  \n",
              "14249       SC-450g  \n",
              "14329       SC-450g  \n",
              "15043       SC-450g  \n",
              "17879       SC-450g  \n",
              "20585       SC-450g  \n",
              "\n",
              "[5 rows x 55 columns]"
            ]
          },
          "execution_count": 44,
          "metadata": {},
          "output_type": "execute_result"
        }
      ],
      "source": [
        "SCx1_tiktok_hoan_tra"
      ]
    },
    {
      "cell_type": "code",
      "execution_count": 45,
      "metadata": {
        "id": "aGMvXaEAaA5f"
      },
      "outputs": [],
      "source": [
        "so_luong_SCx1_tiktok_hoan_tra = SCx1_tiktok_hoan_tra['Quantity'].sum()\n",
        "so_luong_SCx2_tiktok_hoan_tra = SCx2_tiktok_hoan_tra['Quantity'].sum()\n",
        "so_luong_SC_Combo_tiktok_hoan_tra = SC_Combo_tiktok_hoan_tra['Quantity'].sum()"
      ]
    },
    {
      "cell_type": "code",
      "execution_count": 46,
      "metadata": {
        "colab": {
          "base_uri": "https://localhost:8080/"
        },
        "id": "elAK9JYLaKmj",
        "outputId": "b9762680-66fb-4579-80ec-c00dcfbac8d9"
      },
      "outputs": [
        {
          "data": {
            "text/plain": [
              "np.int64(12)"
            ]
          },
          "execution_count": 46,
          "metadata": {},
          "output_type": "execute_result"
        }
      ],
      "source": [
        "tong_san_pham_tiktok_hoan_tra = so_luong_SCx1_tiktok_hoan_tra + so_luong_SCx2_tiktok_hoan_tra + so_luong_SC_Combo_tiktok_hoan_tra * 2\n",
        "tong_san_pham_tiktok_hoan_tra"
      ]
    },
    {
      "cell_type": "markdown",
      "metadata": {
        "id": "sqChYLlZBo1C"
      },
      "source": [
        "#Processing data shopee"
      ]
    },
    {
      "cell_type": "code",
      "execution_count": 47,
      "metadata": {
        "id": "6gIxfG6XqhAi"
      },
      "outputs": [],
      "source": [
        "df_shopee['Acctually type'] = df_shopee['Trạng Thái Đơn Hàng']"
      ]
    },
    {
      "cell_type": "code",
      "execution_count": 48,
      "metadata": {
        "id": "LJSJwKEirr4s"
      },
      "outputs": [],
      "source": [
        "df_shopee['Acctually type'] = df_shopee['Acctually type'].apply(\n",
        "    lambda x: \"Đơn hàng đã đến User\" if isinstance(x, str) and \"Người mua xác nhận đã nhận được hàng\" in x else x\n",
        ")"
      ]
    },
    {
      "cell_type": "code",
      "execution_count": 49,
      "metadata": {
        "id": "l-WlAIvAsFB5"
      },
      "outputs": [],
      "source": [
        "date_columns_shopee = [\n",
        "    'Ngày đặt hàng', 'Ngày giao hàng dự kiến', 'Ngày gửi hàng', 'Thời gian giao hàng'\n",
        "]\n",
        "\n",
        "# Ép kiểu về datetime với định dạng đúng\n",
        "df_shopee[date_columns_shopee] = df_shopee[date_columns_shopee].apply(\n",
        "    lambda col: pd.to_datetime(col, errors='coerce', format='%Y-%m-%d %H:%M')\n",
        ")\n",
        "\n",
        "# Loại bỏ giờ, giữ lại phần ngày\n",
        "for col in date_columns_shopee:\n",
        "    df_shopee[col] = df_shopee[col].dt.normalize()\n"
      ]
    },
    {
      "cell_type": "code",
      "execution_count": 50,
      "metadata": {
        "id": "cmpmyy3Ptkz8"
      },
      "outputs": [],
      "source": [
        "tong_don_shopee = df_shopee[\n",
        "    (df_shopee['Thời gian giao hàng'] >= ngay_bat_dau) &\n",
        "    (df_shopee['Thời gian giao hàng'] <= ngay_ket_thuc)\n",
        "]\n",
        "\n",
        "tong_don_shopee_unique = tong_don_shopee['Mã đơn hàng'].drop_duplicates()\n",
        "so_luong_tong_don_shopee = len(tong_don_shopee_unique)"
      ]
    },
    {
      "cell_type": "code",
      "execution_count": 51,
      "metadata": {
        "colab": {
          "base_uri": "https://localhost:8080/"
        },
        "id": "81nD4C7OMKsJ",
        "outputId": "4c61c9fb-5545-44e3-c417-1c5620abfdec"
      },
      "outputs": [
        {
          "data": {
            "text/plain": [
              "2641"
            ]
          },
          "execution_count": 51,
          "metadata": {},
          "output_type": "execute_result"
        }
      ],
      "source": [
        "so_luong_tong_don_shopee"
      ]
    },
    {
      "cell_type": "code",
      "execution_count": 52,
      "metadata": {
        "id": "HioyoyWpu0fJ"
      },
      "outputs": [],
      "source": [
        "don_hoan_thanh_shopee = df_shopee[\n",
        "    (df_shopee['Acctually type'].isin(['Hoàn thành', 'Đơn hàng đã đến User']))&\n",
        "    (df_shopee['Thời gian giao hàng'] >= ngay_bat_dau) &\n",
        "    (df_shopee['Thời gian giao hàng'] <= ngay_ket_thuc)\n",
        "]\n",
        "\n",
        "\n",
        "don_hoan_thanh_shopee_unique = don_hoan_thanh_shopee['Mã đơn hàng'].drop_duplicates()\n",
        "so_don_hoan_thanh_shopee = len(don_hoan_thanh_shopee_unique)"
      ]
    },
    {
      "cell_type": "code",
      "execution_count": 53,
      "metadata": {
        "id": "n_wZ2oSCyZtK"
      },
      "outputs": [],
      "source": [
        "# don_huy_shopee = df_shopee[\n",
        "#     (df_shopee['Acctually type'] == 'Đã hủy')&\n",
        "#     (df_shopee['Thời gian giao hàng'] >= ngay_bat_dau) &\n",
        "#     (df_shopee['Thời gian giao hàng'] <= ngay_ket_thuc)\n",
        "# ]\n",
        "\n",
        "\n",
        "# don_huy_shopee_unique = don_huy_shopee['Mã đơn hàng'].drop_duplicates()\n",
        "# so_don_huy_shopee = len(don_huy_shopee_unique)"
      ]
    },
    {
      "cell_type": "code",
      "execution_count": 54,
      "metadata": {
        "id": "oafePXqlzVRN"
      },
      "outputs": [],
      "source": [
        "don_dang_giao_shopee = df_shopee[\n",
        "    (df_shopee['Acctually type'] == 'Đang giao')&\n",
        "    (df_shopee['Thời gian giao hàng'] >= ngay_bat_dau) &\n",
        "    (df_shopee['Thời gian giao hàng'] <= ngay_ket_thuc)\n",
        "]\n",
        "\n",
        "don_dang_giao_shopee_unique = don_dang_giao_shopee['Mã đơn hàng'].drop_duplicates()\n",
        "so_don_dang_giao_shopee = len(don_dang_giao_shopee_unique)"
      ]
    },
    {
      "cell_type": "code",
      "execution_count": 55,
      "metadata": {
        "id": "vEL1ijX00Des"
      },
      "outputs": [],
      "source": [
        "don_hoan_tra_shopee = df_shopee[\n",
        "    (df_shopee['Trạng thái Trả hàng/Hoàn tiền'] == 'Đã Chấp Thuận Yêu Cầu')&\n",
        "    (df_shopee['Thời gian giao hàng'] >= ngay_bat_dau) &\n",
        "    (df_shopee['Thời gian giao hàng'] <= ngay_ket_thuc)\n",
        "]\n",
        "\n",
        "don_hoan_tra_shopee_unique = don_hoan_tra_shopee['Mã đơn hàng'].drop_duplicates()\n",
        "so_don_hoan_tra_shopee = len(don_hoan_tra_shopee_unique)"
      ]
    },
    {
      "cell_type": "code",
      "execution_count": 56,
      "metadata": {
        "id": "hT5z_x-Z02-Y"
      },
      "outputs": [],
      "source": [
        "SCx1_sp = df_shopee[\n",
        "    (df_shopee['SKU sản phẩm'] == 'SC-450g')&\n",
        "    (df_shopee['Thời gian giao hàng'] >= ngay_bat_dau) &\n",
        "    (df_shopee['Thời gian giao hàng'] <= ngay_ket_thuc)\n",
        "]\n",
        "\n",
        "SCx2_sp = df_shopee[\n",
        "    (df_shopee['SKU sản phẩm'] == 'SC-x2-450g') &\n",
        "    (df_shopee['Thời gian giao hàng'] >= ngay_bat_dau) &\n",
        "    (df_shopee['Thời gian giao hàng'] <= ngay_ket_thuc)\n",
        "]\n",
        "\n",
        "SC_Combo_sp = df_shopee[\n",
        "    (df_shopee['SKU sản phẩm'] == 'COMBO-SC') &\n",
        "    (df_shopee['Thời gian giao hàng'] >= ngay_bat_dau) &\n",
        "    (df_shopee['Thời gian giao hàng'] <= ngay_ket_thuc)\n",
        "]"
      ]
    },
    {
      "cell_type": "code",
      "execution_count": 57,
      "metadata": {
        "id": "V-doINJy09qM"
      },
      "outputs": [],
      "source": [
        "so_luong_SCx1_sp = SCx1_sp['Số lượng'].sum()\n",
        "so_luong_SCx2_sp = SCx2_sp['Số lượng'].sum()\n",
        "so_luong_SC_Combo_sp = SC_Combo_sp['Số lượng'].sum()\n",
        "tong_san_pham_sp = so_luong_SCx1_sp + so_luong_SCx2_sp + so_luong_SC_Combo_sp * 2"
      ]
    },
    {
      "cell_type": "code",
      "execution_count": 58,
      "metadata": {
        "colab": {
          "base_uri": "https://localhost:8080/"
        },
        "id": "cXQgPv0eBjpy",
        "outputId": "7324f863-ef6e-4406-fa1c-ec70e08f90f1"
      },
      "outputs": [
        {
          "data": {
            "text/plain": [
              "np.int64(3206)"
            ]
          },
          "execution_count": 58,
          "metadata": {},
          "output_type": "execute_result"
        }
      ],
      "source": [
        "tong_san_pham_sp"
      ]
    },
    {
      "cell_type": "code",
      "execution_count": 59,
      "metadata": {
        "id": "8ptw6OH_NL_S"
      },
      "outputs": [],
      "source": [
        "SCx1_sp_hoanh_thanh = df_shopee[\n",
        "    (df_shopee['SKU sản phẩm'] == 'SC-450g')&\n",
        "    (df_shopee['Thời gian giao hàng'] >= ngay_bat_dau) &\n",
        "    (df_shopee['Thời gian giao hàng'] <= ngay_ket_thuc) &\n",
        "    (df_shopee['Acctually type'].isin(['Hoàn thành', 'Đơn hàng đã đến User']))\n",
        "]\n",
        "\n",
        "SCx2_sp_hoanh_thanh = df_shopee[\n",
        "    (df_shopee['SKU sản phẩm'] == 'SC-x2-450g') &\n",
        "    (df_shopee['Thời gian giao hàng'] >= ngay_bat_dau) &\n",
        "    (df_shopee['Thời gian giao hàng'] <= ngay_ket_thuc) &\n",
        "    (df_shopee['Acctually type'].isin(['Hoàn thành', 'Đơn hàng đã đến User']))\n",
        "]\n",
        "\n",
        "SC_Combo_sp_hoanh_thanh = df_shopee[\n",
        "    (df_shopee['SKU sản phẩm'] == 'COMBO-SC') &\n",
        "    (df_shopee['Thời gian giao hàng'] >= ngay_bat_dau) &\n",
        "    (df_shopee['Thời gian giao hàng'] <= ngay_ket_thuc)  &\n",
        "    (df_shopee['Acctually type'].isin(['Hoàn thành', 'Đơn hàng đã đến User']))\n",
        "]"
      ]
    },
    {
      "cell_type": "code",
      "execution_count": 60,
      "metadata": {
        "id": "dDgLkJuaNgS_"
      },
      "outputs": [],
      "source": [
        "so_luong_SCx1_sp_hoanh_thanh = SCx1_sp_hoanh_thanh['Số lượng'].sum()\n",
        "so_luong_SCx2_sp_hoanh_thanh = SCx2_sp_hoanh_thanh['Số lượng'].sum()\n",
        "so_luong_SC_Combo_sp_hoanh_thanh = SC_Combo_sp_hoanh_thanh['Số lượng'].sum()"
      ]
    },
    {
      "cell_type": "code",
      "execution_count": 61,
      "metadata": {
        "colab": {
          "base_uri": "https://localhost:8080/"
        },
        "id": "rubiOTRxNnV2",
        "outputId": "9f1829e0-b1da-4505-f16b-8852efb51910"
      },
      "outputs": [
        {
          "data": {
            "text/plain": [
              "np.int64(1600)"
            ]
          },
          "execution_count": 61,
          "metadata": {},
          "output_type": "execute_result"
        }
      ],
      "source": [
        "tong_san_pham_sp_hoanh_thanh = so_luong_SCx1_sp_hoanh_thanh + so_luong_SCx2_sp_hoanh_thanh + so_luong_SC_Combo_sp_hoanh_thanh * 2\n",
        "tong_san_pham_sp_hoanh_thanh"
      ]
    },
    {
      "cell_type": "code",
      "execution_count": 62,
      "metadata": {
        "id": "ACeAjIZM_18G"
      },
      "outputs": [],
      "source": [
        "SCx1_sp_da_giao = df_shopee[\n",
        "    (df_shopee['SKU sản phẩm'] == 'SC-450g')&\n",
        "    (df_shopee['Thời gian giao hàng'] >= ngay_bat_dau) &\n",
        "    (df_shopee['Thời gian giao hàng'] <= ngay_ket_thuc) &\n",
        "    (df_shopee['Acctually type'] == 'Đã giao')\n",
        "]\n",
        "\n",
        "SCx2_sp_da_giao = df_shopee[\n",
        "    (df_shopee['SKU sản phẩm'] == 'SC-x2-450g') &\n",
        "    (df_shopee['Thời gian giao hàng'] >= ngay_bat_dau) &\n",
        "    (df_shopee['Thời gian giao hàng'] <= ngay_ket_thuc) &\n",
        "    (df_shopee['Acctually type'] == 'Đã giao')\n",
        "]\n",
        "\n",
        "SC_Combo_sp_da_giao = df_shopee[\n",
        "    (df_shopee['SKU sản phẩm'] == 'COMBO-SC') &\n",
        "    (df_shopee['Thời gian giao hàng'] >= ngay_bat_dau) &\n",
        "    (df_shopee['Thời gian giao hàng'] <= ngay_ket_thuc)  &\n",
        "    (df_shopee['Acctually type'] == 'Đã giao')\n",
        "]"
      ]
    },
    {
      "cell_type": "code",
      "execution_count": 63,
      "metadata": {
        "id": "XugN7rzJ_7Yf"
      },
      "outputs": [],
      "source": [
        "so_luong_SCx1_sp_da_giao = SCx1_sp_da_giao['Số lượng'].sum()\n",
        "so_luong_SCx2_sp_da_giao = SCx2_sp_da_giao['Số lượng'].sum()\n",
        "so_luong_SC_Combo_sp_da_giao = SC_Combo_sp_da_giao['Số lượng'].sum()"
      ]
    },
    {
      "cell_type": "code",
      "execution_count": 64,
      "metadata": {
        "colab": {
          "base_uri": "https://localhost:8080/"
        },
        "id": "9cWAOsfRACXK",
        "outputId": "3d544a2d-2e7a-451e-d68b-4a7321551973"
      },
      "outputs": [
        {
          "data": {
            "text/plain": [
              "np.int64(769)"
            ]
          },
          "execution_count": 64,
          "metadata": {},
          "output_type": "execute_result"
        }
      ],
      "source": [
        "tong_san_pham_sp_da_giao = so_luong_SCx1_sp_da_giao + so_luong_SCx2_sp_da_giao + so_luong_SC_Combo_sp_da_giao * 2\n",
        "tong_san_pham_sp_da_giao"
      ]
    },
    {
      "cell_type": "code",
      "execution_count": 65,
      "metadata": {
        "id": "LhAbuaiTNw6u"
      },
      "outputs": [],
      "source": [
        "SCx1_sp_dang_giao = df_shopee[\n",
        "    (df_shopee['SKU sản phẩm'] == 'SC-450g')&\n",
        "    (df_shopee['Thời gian giao hàng'] >= ngay_bat_dau) &\n",
        "    (df_shopee['Thời gian giao hàng'] <= ngay_ket_thuc) &\n",
        "    (df_shopee['Acctually type'] == 'Đang giao')\n",
        "]\n",
        "\n",
        "SCx2_sp_dang_giao = df_shopee[\n",
        "    (df_shopee['SKU sản phẩm'] == 'SC-x2-450g') &\n",
        "    (df_shopee['Thời gian giao hàng'] >= ngay_bat_dau) &\n",
        "    (df_shopee['Thời gian giao hàng'] <= ngay_ket_thuc) &\n",
        "    (df_shopee['Acctually type'] == 'Đang giao')\n",
        "]\n",
        "\n",
        "SC_Combo_sp_dang_giao = df_shopee[\n",
        "    (df_shopee['SKU sản phẩm'] == 'COMBO-SC') &\n",
        "    (df_shopee['Thời gian giao hàng'] >= ngay_bat_dau) &\n",
        "    (df_shopee['Thời gian giao hàng'] <= ngay_ket_thuc)  &\n",
        "    (df_shopee['Acctually type'] == 'Đang giao')\n",
        "]"
      ]
    },
    {
      "cell_type": "code",
      "execution_count": 66,
      "metadata": {
        "id": "BGJdm87MAsDu"
      },
      "outputs": [],
      "source": [
        "so_luong_SCx1_sp_dang_giao = SCx1_sp_dang_giao['Số lượng'].sum()\n",
        "so_luong_SCx2_sp_dang_giao = SCx2_sp_dang_giao['Số lượng'].sum()\n",
        "so_luong_SC_Combo_sp_dang_giao = SC_Combo_sp_dang_giao['Số lượng'].sum()"
      ]
    },
    {
      "cell_type": "code",
      "execution_count": null,
      "metadata": {
        "id": "zImuvLPSAx0v"
      },
      "outputs": [],
      "source": []
    },
    {
      "cell_type": "code",
      "execution_count": 67,
      "metadata": {
        "colab": {
          "base_uri": "https://localhost:8080/"
        },
        "id": "WUiHCFdZOD5B",
        "outputId": "b037cc96-0025-4d63-b75b-50b148bedbbe"
      },
      "outputs": [
        {
          "data": {
            "text/plain": [
              "np.int64(803)"
            ]
          },
          "execution_count": 67,
          "metadata": {},
          "output_type": "execute_result"
        }
      ],
      "source": [
        "tong_san_pham_sp_dang_giao = so_luong_SCx1_sp_dang_giao + so_luong_SCx2_sp_dang_giao + so_luong_SC_Combo_sp_dang_giao * 2\n",
        "tong_san_pham_sp_dang_giao"
      ]
    },
    {
      "cell_type": "code",
      "execution_count": 68,
      "metadata": {
        "id": "hZXhrKZ6X2QE"
      },
      "outputs": [],
      "source": [
        "SCx1_sp_da_huy = df_shopee[\n",
        "    (df_shopee['SKU sản phẩm'] == 'SC-450g')&\n",
        "    (df_shopee['Thời gian giao hàng'] >= ngay_bat_dau) &\n",
        "    (df_shopee['Thời gian giao hàng'] <= ngay_ket_thuc) &\n",
        "    (df_shopee['Acctually type'] == 'Đã hủy')\n",
        "]\n",
        "\n",
        "SCx2_sp_da_huy = df_shopee[\n",
        "    (df_shopee['SKU sản phẩm'] == 'SC-x2-450g') &\n",
        "    (df_shopee['Thời gian giao hàng'] >= ngay_bat_dau) &\n",
        "    (df_shopee['Thời gian giao hàng'] <= ngay_ket_thuc) &\n",
        "    (df_shopee['Acctually type'] == 'Đã hủy')\n",
        "]\n",
        "\n",
        "SC_Combo_sp_da_huy = df_shopee[\n",
        "    (df_shopee['SKU sản phẩm'] == 'COMBO-SC') &\n",
        "    (df_shopee['Thời gian giao hàng'] >= ngay_bat_dau) &\n",
        "    (df_shopee['Thời gian giao hàng'] <= ngay_ket_thuc)  &\n",
        "    (df_shopee['Acctually type'] == 'Đã hủy')\n",
        "]"
      ]
    },
    {
      "cell_type": "code",
      "execution_count": 69,
      "metadata": {
        "id": "zQ_awtkjYHS7"
      },
      "outputs": [],
      "source": [
        "so_luong_SCx1_sp_da_huy = SCx1_sp_da_huy['Số lượng'].sum()\n",
        "so_luong_SCx2_sp_da_huy = SCx2_sp_da_huy['Số lượng'].sum()\n",
        "so_luong_SC_Combo_sp_da_huy = SC_Combo_sp_da_huy['Số lượng'].sum()"
      ]
    },
    {
      "cell_type": "code",
      "execution_count": 70,
      "metadata": {
        "colab": {
          "base_uri": "https://localhost:8080/"
        },
        "id": "hO5QJOkyYNc-",
        "outputId": "2f921636-4441-49dc-87f2-b9e6f806287a"
      },
      "outputs": [
        {
          "data": {
            "text/plain": [
              "np.int64(34)"
            ]
          },
          "execution_count": 70,
          "metadata": {},
          "output_type": "execute_result"
        }
      ],
      "source": [
        "tong_san_pham_sp_da_huy = so_luong_SCx1_sp_da_huy + so_luong_SCx2_sp_da_huy + so_luong_SC_Combo_sp_da_huy * 2\n",
        "tong_san_pham_sp_da_huy"
      ]
    },
    {
      "cell_type": "code",
      "execution_count": 71,
      "metadata": {
        "id": "2YGPzwpqcaXo"
      },
      "outputs": [],
      "source": [
        "SCx1_sp_hoan_tra = df_shopee[\n",
        "    (df_shopee['SKU sản phẩm'] == 'SC-450g')&\n",
        "    (df_shopee['Thời gian giao hàng'] >= ngay_bat_dau) &\n",
        "    (df_shopee['Thời gian giao hàng'] <= ngay_ket_thuc) &\n",
        "     (df_shopee['Trạng thái Trả hàng/Hoàn tiền'] == 'Đã Chấp Thuận Yêu Cầu')\n",
        "]\n",
        "\n",
        "SCx2_sp_hoan_tra = df_shopee[\n",
        "    (df_shopee['SKU sản phẩm'] == 'SC-x2-450g') &\n",
        "    (df_shopee['Thời gian giao hàng'] >= ngay_bat_dau) &\n",
        "    (df_shopee['Thời gian giao hàng'] <= ngay_ket_thuc)&\n",
        "     (df_shopee['Trạng thái Trả hàng/Hoàn tiền'] == 'Đã Chấp Thuận Yêu Cầu')\n",
        "]\n",
        "\n",
        "SC_Combo_sp_hoan_tra = df_shopee[\n",
        "    (df_shopee['SKU sản phẩm'] == 'COMBO-SC') &\n",
        "    (df_shopee['Thời gian giao hàng'] >= ngay_bat_dau) &\n",
        "    (df_shopee['Thời gian giao hàng'] <= ngay_ket_thuc)&\n",
        "     (df_shopee['Trạng thái Trả hàng/Hoàn tiền'] == 'Đã Chấp Thuận Yêu Cầu')\n",
        "]"
      ]
    },
    {
      "cell_type": "code",
      "execution_count": 72,
      "metadata": {
        "id": "ETTvt1U7cl6U"
      },
      "outputs": [],
      "source": [
        "so_luong_SCx1_sp_hoan_tra = SCx1_sp_hoan_tra['Số lượng'].sum()\n",
        "so_luong_SCx2_sp_hoan_tra = SCx2_sp_hoan_tra['Số lượng'].sum()\n",
        "so_luong_SC_Combo_sp_hoan = SC_Combo_sp_hoan_tra['Số lượng'].sum()"
      ]
    },
    {
      "cell_type": "code",
      "execution_count": 73,
      "metadata": {
        "colab": {
          "base_uri": "https://localhost:8080/"
        },
        "id": "xqCBADN_ctMU",
        "outputId": "4b983e22-5d29-4934-ff03-7cfd8b5640c7"
      },
      "outputs": [
        {
          "data": {
            "text/plain": [
              "np.int64(23)"
            ]
          },
          "execution_count": 73,
          "metadata": {},
          "output_type": "execute_result"
        }
      ],
      "source": [
        "tong_san_pham_sp_hoan_tra = so_luong_SCx1_sp_hoan_tra + so_luong_SCx2_sp_hoan_tra + so_luong_SC_Combo_sp_hoan * 2\n",
        "tong_san_pham_sp_hoan_tra"
      ]
    },
    {
      "cell_type": "markdown",
      "metadata": {
        "id": "K8E7PS5zAb8K"
      },
      "source": [
        "#Show bảng tiktok\n"
      ]
    },
    {
      "cell_type": "code",
      "execution_count": 74,
      "metadata": {
        "colab": {
          "base_uri": "https://localhost:8080/",
          "height": 0
        },
        "id": "kb-8XCy6AZPI",
        "outputId": "0c675c5f-91b9-4772-d520-c4e3da22c91a"
      },
      "outputs": [
        {
          "data": {
            "text/html": [
              "<div>\n",
              "<style scoped>\n",
              "    .dataframe tbody tr th:only-of-type {\n",
              "        vertical-align: middle;\n",
              "    }\n",
              "\n",
              "    .dataframe tbody tr th {\n",
              "        vertical-align: top;\n",
              "    }\n",
              "\n",
              "    .dataframe thead th {\n",
              "        text-align: right;\n",
              "    }\n",
              "</style>\n",
              "<table border=\"1\" class=\"dataframe\">\n",
              "  <thead>\n",
              "    <tr style=\"text-align: right;\">\n",
              "      <th></th>\n",
              "      <th>TỔNG SỐ LƯỢNG SP</th>\n",
              "      <th>SL SP HOÀN THÀNH</th>\n",
              "      <th>SL SP ĐÃ GIAO</th>\n",
              "    </tr>\n",
              "  </thead>\n",
              "  <tbody>\n",
              "    <tr>\n",
              "      <th>Tiktok</th>\n",
              "      <td>19391</td>\n",
              "      <td>8404</td>\n",
              "      <td>10987</td>\n",
              "    </tr>\n",
              "  </tbody>\n",
              "</table>\n",
              "</div>"
            ],
            "text/plain": [
              "        TỔNG SỐ LƯỢNG SP  SL SP HOÀN THÀNH  SL SP ĐÃ GIAO\n",
              "Tiktok             19391              8404          10987"
            ]
          },
          "execution_count": 74,
          "metadata": {},
          "output_type": "execute_result"
        }
      ],
      "source": [
        "import pandas as pd\n",
        "\n",
        "bang_thong_ke_don_hang_tiktok = pd.DataFrame({\n",
        "    'TỔNG SỐ LƯỢNG SP': [tong_san_pham_tiktok_hoan_thanh + tong_san_pham_tiktok_da_giao],\n",
        "    'SL SP HOÀN THÀNH': [tong_san_pham_tiktok_hoan_thanh],\n",
        "    'SL SP ĐÃ GIAO': [tong_san_pham_tiktok_da_giao],\n",
        "}, index=['Tiktok'])\n",
        "\n",
        "bang_thong_ke_don_hang_tiktok"
      ]
    },
    {
      "cell_type": "code",
      "execution_count": 75,
      "metadata": {
        "colab": {
          "base_uri": "https://localhost:8080/",
          "height": 0
        },
        "id": "mtwGqZhnmR3B",
        "outputId": "bf517e41-3943-47f4-c04a-b90445b9d26b"
      },
      "outputs": [
        {
          "data": {
            "text/html": [
              "<div>\n",
              "<style scoped>\n",
              "    .dataframe tbody tr th:only-of-type {\n",
              "        vertical-align: middle;\n",
              "    }\n",
              "\n",
              "    .dataframe tbody tr th {\n",
              "        vertical-align: top;\n",
              "    }\n",
              "\n",
              "    .dataframe thead th {\n",
              "        text-align: right;\n",
              "    }\n",
              "</style>\n",
              "<table border=\"1\" class=\"dataframe\">\n",
              "  <thead>\n",
              "    <tr style=\"text-align: right;\">\n",
              "      <th></th>\n",
              "      <th>SC_Combo</th>\n",
              "      <th>SCx1</th>\n",
              "      <th>SCx2</th>\n",
              "      <th>TỔNG</th>\n",
              "      <th>ĐƠN ĐÃ GIAO</th>\n",
              "      <th>ĐƠN HOÀN THÀNH</th>\n",
              "    </tr>\n",
              "  </thead>\n",
              "  <tbody>\n",
              "    <tr>\n",
              "      <th>Tiktok</th>\n",
              "      <td>4642</td>\n",
              "      <td>8390</td>\n",
              "      <td>6359</td>\n",
              "      <td>19391</td>\n",
              "      <td>9402</td>\n",
              "      <td>6402</td>\n",
              "    </tr>\n",
              "  </tbody>\n",
              "</table>\n",
              "</div>"
            ],
            "text/plain": [
              "        SC_Combo  SCx1  SCx2   TỔNG  ĐƠN ĐÃ GIAO  ĐƠN HOÀN THÀNH\n",
              "Tiktok      4642  8390  6359  19391         9402            6402"
            ]
          },
          "execution_count": 75,
          "metadata": {},
          "output_type": "execute_result"
        }
      ],
      "source": [
        "import pandas as pd\n",
        "\n",
        "bang_thong_ke_so_luong_tiktok = pd.DataFrame({\n",
        "    'SC_Combo': [so_luong_SC_Combo_tiktok * 2],\n",
        "    'SCx1': [so_luong_SCx1_tiktok_hoan_thanh + so_luong_SCx1_tiktok_da_giao ],\n",
        "    'SCx2': [so_luong_SCx2_tiktok_hoan_thanh + so_luong_SCx2_tiktok_da_giao],\n",
        "    'TỔNG': [tong_san_pham_tiktok_hoan_thanh + tong_san_pham_tiktok_da_giao],\n",
        "    'ĐƠN ĐÃ GIAO' : [so_don_da_giao_tiktok],\n",
        "    'ĐƠN HOÀN THÀNH' : [so_don_hoan_thanh_tiktok],\n",
        "\n",
        "}, index=['Tiktok'])\n",
        "\n",
        "bang_thong_ke_so_luong_tiktok"
      ]
    },
    {
      "cell_type": "code",
      "execution_count": 76,
      "metadata": {
        "colab": {
          "base_uri": "https://localhost:8080/",
          "height": 0
        },
        "id": "5bKLxhUTZeGX",
        "outputId": "92456a06-c044-4a10-f5da-9339a5082397"
      },
      "outputs": [
        {
          "data": {
            "text/html": [
              "<div>\n",
              "<style scoped>\n",
              "    .dataframe tbody tr th:only-of-type {\n",
              "        vertical-align: middle;\n",
              "    }\n",
              "\n",
              "    .dataframe tbody tr th {\n",
              "        vertical-align: top;\n",
              "    }\n",
              "\n",
              "    .dataframe thead th {\n",
              "        text-align: right;\n",
              "    }\n",
              "</style>\n",
              "<table border=\"1\" class=\"dataframe\">\n",
              "  <thead>\n",
              "    <tr style=\"text-align: right;\">\n",
              "      <th></th>\n",
              "      <th>SỐ ĐƠN HOÀN TRẢ</th>\n",
              "      <th>SỐ LƯỢNG SẢN PHẨM</th>\n",
              "    </tr>\n",
              "  </thead>\n",
              "  <tbody>\n",
              "    <tr>\n",
              "      <th>Tiktok</th>\n",
              "      <td>9</td>\n",
              "      <td>12</td>\n",
              "    </tr>\n",
              "  </tbody>\n",
              "</table>\n",
              "</div>"
            ],
            "text/plain": [
              "        SỐ ĐƠN HOÀN TRẢ  SỐ LƯỢNG SẢN PHẨM\n",
              "Tiktok                9                 12"
            ]
          },
          "execution_count": 76,
          "metadata": {},
          "output_type": "execute_result"
        }
      ],
      "source": [
        "import pandas as pd\n",
        "\n",
        "bang_thong_ke_hoan_tra_tiktok = pd.DataFrame({\n",
        "    'SỐ ĐƠN HOÀN TRẢ': [so_don_hoan_tra_thuc_su_tiktok],\n",
        "    'SỐ LƯỢNG SẢN PHẨM': [tong_san_pham_tiktok_hoan_tra],\n",
        "\n",
        "}, index=['Tiktok'])\n",
        "bang_thong_ke_hoan_tra_tiktok"
      ]
    },
    {
      "cell_type": "markdown",
      "metadata": {
        "id": "NrwUuPA17Nzg"
      },
      "source": [
        "#Show bảng shopee\n"
      ]
    },
    {
      "cell_type": "code",
      "execution_count": 77,
      "metadata": {
        "colab": {
          "base_uri": "https://localhost:8080/",
          "height": 0
        },
        "id": "dL6-FxFY7PWA",
        "outputId": "cdf3da3d-e634-4059-d58a-9b98cb48aa9c"
      },
      "outputs": [
        {
          "data": {
            "text/html": [
              "<div>\n",
              "<style scoped>\n",
              "    .dataframe tbody tr th:only-of-type {\n",
              "        vertical-align: middle;\n",
              "    }\n",
              "\n",
              "    .dataframe tbody tr th {\n",
              "        vertical-align: top;\n",
              "    }\n",
              "\n",
              "    .dataframe thead th {\n",
              "        text-align: right;\n",
              "    }\n",
              "</style>\n",
              "<table border=\"1\" class=\"dataframe\">\n",
              "  <thead>\n",
              "    <tr style=\"text-align: right;\">\n",
              "      <th></th>\n",
              "      <th>TỔNG SỐ LƯỢNG SP</th>\n",
              "      <th>SL SP HOÀN THÀNH</th>\n",
              "      <th>SL SP ĐÃ GIAO</th>\n",
              "    </tr>\n",
              "  </thead>\n",
              "  <tbody>\n",
              "    <tr>\n",
              "      <th>Shopee</th>\n",
              "      <td>2403</td>\n",
              "      <td>1600</td>\n",
              "      <td>803</td>\n",
              "    </tr>\n",
              "  </tbody>\n",
              "</table>\n",
              "</div>"
            ],
            "text/plain": [
              "        TỔNG SỐ LƯỢNG SP  SL SP HOÀN THÀNH  SL SP ĐÃ GIAO\n",
              "Shopee              2403              1600            803"
            ]
          },
          "execution_count": 77,
          "metadata": {},
          "output_type": "execute_result"
        }
      ],
      "source": [
        "import pandas as pd\n",
        "\n",
        "bang_thong_ke_don_hang_shopee = pd.DataFrame({\n",
        "     'TỔNG SỐ LƯỢNG SP': [tong_san_pham_sp_hoanh_thanh + tong_san_pham_sp_dang_giao],\n",
        "    'SL SP HOÀN THÀNH': [tong_san_pham_sp_hoanh_thanh],\n",
        "    'SL SP ĐÃ GIAO': [tong_san_pham_sp_dang_giao],\n",
        "}, index=['Shopee'])\n",
        "\n",
        "bang_thong_ke_don_hang_shopee"
      ]
    },
    {
      "cell_type": "code",
      "execution_count": 78,
      "metadata": {
        "colab": {
          "base_uri": "https://localhost:8080/",
          "height": 0
        },
        "id": "G-HASFLw0tpb",
        "outputId": "f82ef9d6-3861-4af2-ff07-6e77f0181098"
      },
      "outputs": [
        {
          "data": {
            "text/html": [
              "<div>\n",
              "<style scoped>\n",
              "    .dataframe tbody tr th:only-of-type {\n",
              "        vertical-align: middle;\n",
              "    }\n",
              "\n",
              "    .dataframe tbody tr th {\n",
              "        vertical-align: top;\n",
              "    }\n",
              "\n",
              "    .dataframe thead th {\n",
              "        text-align: right;\n",
              "    }\n",
              "</style>\n",
              "<table border=\"1\" class=\"dataframe\">\n",
              "  <thead>\n",
              "    <tr style=\"text-align: right;\">\n",
              "      <th></th>\n",
              "      <th>SC_Combo</th>\n",
              "      <th>SCx1</th>\n",
              "      <th>SCx2</th>\n",
              "      <th>TỔNG</th>\n",
              "      <th>ĐƠN ĐÃ GIAO</th>\n",
              "      <th>ĐƠN HOÀN THÀNH</th>\n",
              "    </tr>\n",
              "  </thead>\n",
              "  <tbody>\n",
              "    <tr>\n",
              "      <th>Shopee</th>\n",
              "      <td>290</td>\n",
              "      <td>999</td>\n",
              "      <td>701</td>\n",
              "      <td>2369</td>\n",
              "      <td>681</td>\n",
              "      <td>1307</td>\n",
              "    </tr>\n",
              "  </tbody>\n",
              "</table>\n",
              "</div>"
            ],
            "text/plain": [
              "        SC_Combo  SCx1  SCx2  TỔNG  ĐƠN ĐÃ GIAO  ĐƠN HOÀN THÀNH\n",
              "Shopee       290   999   701  2369          681            1307"
            ]
          },
          "execution_count": 78,
          "metadata": {},
          "output_type": "execute_result"
        }
      ],
      "source": [
        "import pandas as pd\n",
        "\n",
        "bang_thong_ke_so_luong_shopee = pd.DataFrame({\n",
        "    'SC_Combo': [(so_luong_SC_Combo_sp_hoanh_thanh + so_luong_SC_Combo_sp_da_giao) * 2],\n",
        "    'SCx1': [so_luong_SCx1_sp_hoanh_thanh + so_luong_SC_Combo_sp_da_giao],\n",
        "    'SCx2': [so_luong_SCx2_sp_hoanh_thanh + so_luong_SCx2_sp_da_giao],\n",
        "     'TỔNG': [tong_san_pham_sp_hoanh_thanh + tong_san_pham_sp_da_giao],\n",
        "    'ĐƠN ĐÃ GIAO' : [so_don_dang_giao_shopee],\n",
        "    'ĐƠN HOÀN THÀNH' : [so_don_hoan_thanh_shopee],\n",
        "}, index=['Shopee'])\n",
        "\n",
        "\n",
        "bang_thong_ke_so_luong_shopee"
      ]
    },
    {
      "cell_type": "code",
      "execution_count": 79,
      "metadata": {
        "colab": {
          "base_uri": "https://localhost:8080/",
          "height": 0
        },
        "id": "qlapPMSZZRhI",
        "outputId": "5aabb423-2021-494b-f0ca-065cfe042f25"
      },
      "outputs": [
        {
          "data": {
            "text/html": [
              "<div>\n",
              "<style scoped>\n",
              "    .dataframe tbody tr th:only-of-type {\n",
              "        vertical-align: middle;\n",
              "    }\n",
              "\n",
              "    .dataframe tbody tr th {\n",
              "        vertical-align: top;\n",
              "    }\n",
              "\n",
              "    .dataframe thead th {\n",
              "        text-align: right;\n",
              "    }\n",
              "</style>\n",
              "<table border=\"1\" class=\"dataframe\">\n",
              "  <thead>\n",
              "    <tr style=\"text-align: right;\">\n",
              "      <th></th>\n",
              "      <th>SỐ ĐƠN HOÀN TRẢ</th>\n",
              "      <th>SỐ LƯỢNG SẢN PHẨM</th>\n",
              "    </tr>\n",
              "  </thead>\n",
              "  <tbody>\n",
              "    <tr>\n",
              "      <th>Shopee</th>\n",
              "      <td>22</td>\n",
              "      <td>23</td>\n",
              "    </tr>\n",
              "  </tbody>\n",
              "</table>\n",
              "</div>"
            ],
            "text/plain": [
              "        SỐ ĐƠN HOÀN TRẢ  SỐ LƯỢNG SẢN PHẨM\n",
              "Shopee               22                 23"
            ]
          },
          "execution_count": 79,
          "metadata": {},
          "output_type": "execute_result"
        }
      ],
      "source": [
        "import pandas as pd\n",
        "\n",
        "bang_thong_ke_hoan_tra_shopee = pd.DataFrame({\n",
        "    'SỐ ĐƠN HOÀN TRẢ': [so_don_hoan_tra_shopee],\n",
        "    'SỐ LƯỢNG SẢN PHẨM': [tong_san_pham_sp_hoan_tra],\n",
        "\n",
        "}, index=['Shopee'])\n",
        "bang_thong_ke_hoan_tra_shopee"
      ]
    },
    {
      "cell_type": "markdown",
      "metadata": {
        "id": "qxSnyysF7hux"
      },
      "source": [
        "#Combine hai bảng"
      ]
    },
    {
      "cell_type": "code",
      "execution_count": 80,
      "metadata": {
        "colab": {
          "base_uri": "https://localhost:8080/",
          "height": 125
        },
        "id": "3HcI29YN7YCn",
        "outputId": "2f3ea8ba-1924-4c33-c918-0248e5fac6bf"
      },
      "outputs": [
        {
          "data": {
            "text/html": [
              "<div>\n",
              "<style scoped>\n",
              "    .dataframe tbody tr th:only-of-type {\n",
              "        vertical-align: middle;\n",
              "    }\n",
              "\n",
              "    .dataframe tbody tr th {\n",
              "        vertical-align: top;\n",
              "    }\n",
              "\n",
              "    .dataframe thead th {\n",
              "        text-align: right;\n",
              "    }\n",
              "</style>\n",
              "<table border=\"1\" class=\"dataframe\">\n",
              "  <thead>\n",
              "    <tr style=\"text-align: right;\">\n",
              "      <th></th>\n",
              "      <th>SC_Combo</th>\n",
              "      <th>SCx1</th>\n",
              "      <th>SCx2</th>\n",
              "      <th>TỔNG</th>\n",
              "      <th>ĐƠN ĐÃ GIAO</th>\n",
              "      <th>ĐƠN HOÀN THÀNH</th>\n",
              "    </tr>\n",
              "  </thead>\n",
              "  <tbody>\n",
              "    <tr>\n",
              "      <th>Tiktok</th>\n",
              "      <td>4642</td>\n",
              "      <td>8390</td>\n",
              "      <td>6359</td>\n",
              "      <td>19391</td>\n",
              "      <td>9402</td>\n",
              "      <td>6402</td>\n",
              "    </tr>\n",
              "    <tr>\n",
              "      <th>Shopee</th>\n",
              "      <td>290</td>\n",
              "      <td>999</td>\n",
              "      <td>701</td>\n",
              "      <td>2369</td>\n",
              "      <td>681</td>\n",
              "      <td>1307</td>\n",
              "    </tr>\n",
              "  </tbody>\n",
              "</table>\n",
              "</div>"
            ],
            "text/plain": [
              "        SC_Combo  SCx1  SCx2   TỔNG  ĐƠN ĐÃ GIAO  ĐƠN HOÀN THÀNH\n",
              "Tiktok      4642  8390  6359  19391         9402            6402\n",
              "Shopee       290   999   701   2369          681            1307"
            ]
          },
          "execution_count": 80,
          "metadata": {},
          "output_type": "execute_result"
        }
      ],
      "source": [
        "bang_thong_ke_so_luong = pd.concat([\n",
        "    bang_thong_ke_so_luong_tiktok,\n",
        "    bang_thong_ke_so_luong_shopee\n",
        "])\n",
        "\n",
        "bang_thong_ke_so_luong\n"
      ]
    },
    {
      "cell_type": "code",
      "execution_count": 81,
      "metadata": {
        "colab": {
          "base_uri": "https://localhost:8080/",
          "height": 125
        },
        "id": "IsSRga8tPQoG",
        "outputId": "8514d80a-87a8-4860-c33b-9918a5cbb941"
      },
      "outputs": [
        {
          "data": {
            "text/html": [
              "<div>\n",
              "<style scoped>\n",
              "    .dataframe tbody tr th:only-of-type {\n",
              "        vertical-align: middle;\n",
              "    }\n",
              "\n",
              "    .dataframe tbody tr th {\n",
              "        vertical-align: top;\n",
              "    }\n",
              "\n",
              "    .dataframe thead th {\n",
              "        text-align: right;\n",
              "    }\n",
              "</style>\n",
              "<table border=\"1\" class=\"dataframe\">\n",
              "  <thead>\n",
              "    <tr style=\"text-align: right;\">\n",
              "      <th></th>\n",
              "      <th>TỔNG SỐ LƯỢNG SP</th>\n",
              "      <th>SL SP HOÀN THÀNH</th>\n",
              "      <th>SL SP ĐÃ GIAO</th>\n",
              "    </tr>\n",
              "  </thead>\n",
              "  <tbody>\n",
              "    <tr>\n",
              "      <th>Tiktok</th>\n",
              "      <td>19391</td>\n",
              "      <td>8404</td>\n",
              "      <td>10987</td>\n",
              "    </tr>\n",
              "    <tr>\n",
              "      <th>Shopee</th>\n",
              "      <td>2403</td>\n",
              "      <td>1600</td>\n",
              "      <td>803</td>\n",
              "    </tr>\n",
              "  </tbody>\n",
              "</table>\n",
              "</div>"
            ],
            "text/plain": [
              "        TỔNG SỐ LƯỢNG SP  SL SP HOÀN THÀNH  SL SP ĐÃ GIAO\n",
              "Tiktok             19391              8404          10987\n",
              "Shopee              2403              1600            803"
            ]
          },
          "execution_count": 81,
          "metadata": {},
          "output_type": "execute_result"
        }
      ],
      "source": [
        "bang_thong_ke_don_hang = pd.concat([\n",
        "    bang_thong_ke_don_hang_tiktok,\n",
        "    bang_thong_ke_don_hang_shopee\n",
        "])\n",
        "bang_thong_ke_don_hang"
      ]
    },
    {
      "cell_type": "code",
      "execution_count": 82,
      "metadata": {
        "colab": {
          "base_uri": "https://localhost:8080/",
          "height": 125
        },
        "id": "xwHKN0BJc6Q9",
        "outputId": "2f96bf33-fd6f-443a-c596-e5061af7d9de"
      },
      "outputs": [
        {
          "data": {
            "text/html": [
              "<div>\n",
              "<style scoped>\n",
              "    .dataframe tbody tr th:only-of-type {\n",
              "        vertical-align: middle;\n",
              "    }\n",
              "\n",
              "    .dataframe tbody tr th {\n",
              "        vertical-align: top;\n",
              "    }\n",
              "\n",
              "    .dataframe thead th {\n",
              "        text-align: right;\n",
              "    }\n",
              "</style>\n",
              "<table border=\"1\" class=\"dataframe\">\n",
              "  <thead>\n",
              "    <tr style=\"text-align: right;\">\n",
              "      <th></th>\n",
              "      <th>SỐ ĐƠN HOÀN TRẢ</th>\n",
              "      <th>SỐ LƯỢNG SẢN PHẨM</th>\n",
              "    </tr>\n",
              "  </thead>\n",
              "  <tbody>\n",
              "    <tr>\n",
              "      <th>Tiktok</th>\n",
              "      <td>9</td>\n",
              "      <td>12</td>\n",
              "    </tr>\n",
              "    <tr>\n",
              "      <th>Shopee</th>\n",
              "      <td>22</td>\n",
              "      <td>23</td>\n",
              "    </tr>\n",
              "  </tbody>\n",
              "</table>\n",
              "</div>"
            ],
            "text/plain": [
              "        SỐ ĐƠN HOÀN TRẢ  SỐ LƯỢNG SẢN PHẨM\n",
              "Tiktok                9                 12\n",
              "Shopee               22                 23"
            ]
          },
          "execution_count": 82,
          "metadata": {},
          "output_type": "execute_result"
        }
      ],
      "source": [
        "bang_thong_ke_hoan_tra = pd.concat([\n",
        "    bang_thong_ke_hoan_tra_tiktok,\n",
        "    bang_thong_ke_hoan_tra_shopee\n",
        "])\n",
        "bang_thong_ke_hoan_tra"
      ]
    }
  ],
  "metadata": {
    "colab": {
      "collapsed_sections": [
        "s0XuiiJ9CBCH",
        "eV89JQ_5AgqI",
        "sqChYLlZBo1C",
        "K8E7PS5zAb8K",
        "NrwUuPA17Nzg"
      ],
      "provenance": []
    },
    "kernelspec": {
      "display_name": "Python 3",
      "name": "python3"
    },
    "language_info": {
      "codemirror_mode": {
        "name": "ipython",
        "version": 3
      },
      "file_extension": ".py",
      "mimetype": "text/x-python",
      "name": "python",
      "nbconvert_exporter": "python",
      "pygments_lexer": "ipython3",
      "version": "3.11.9"
    }
  },
  "nbformat": 4,
  "nbformat_minor": 0
}
